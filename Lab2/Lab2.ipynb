{
 "cells": [
  {
   "cell_type": "markdown",
   "id": "19c247ef",
   "metadata": {
    "deletable": false,
    "editable": false,
    "nbgrader": {
     "cell_type": "markdown",
     "checksum": "a55d3ed06eee4d3a7da8b7d095623f91",
     "grade": false,
     "grade_id": "cell-23a7f8d3de35de0b",
     "locked": true,
     "schema_version": 3,
     "solution": false,
     "task": false
    }
   },
   "source": [
    "# Lab 2: Fine-tuning BERT To Perform Common Sense Reasoning\n",
    "\n",
    "## June 20, 2023\n",
    "\n",
    "Welcome to the Lab 2 of our course on Natural Language Processing. As the name suggests in this lab you will learn how to fine-tune a pretrained model like BERT on a downstream task to improve much more superior performance compared to the methods discussed so far. We will be working with the [SocialIQA](https://arxiv.org/abs/1904.09728) dataset this week, which is a multiple choice classification dataset designed to learn and measure social and emotional intelligence in NLP models.\n",
    "\n",
    "\n",
    "This assignment will also make heavy use of the [🤗 Transformers Library](https://huggingface.co/docs/transformers/index). Don't worry if you are not familiar with the library, we will discuss its usage in detail.\n",
    "\n",
    "Note: Access to a GPU will be crucial for working on this assignment. So do select a GPU runtime in Colab before you start working.\n",
    "\n",
    "Learning Outcomes from this Lab:\n",
    "- Learn how to use 🤗 Transformer library to load and fine-tune pre-trained langauge models\n",
    "- Learn how to solve common sense reasoning problems using Masked Language Models like BERT\n",
    "\n",
    "Suggested Reading: \n",
    "- [Jacob Devlin, Ming-Wei Chang, Kenton Lee, Kristina Toutanova *BERT: Pre-training of Deep Bidirectional Transformers for Language Understanding*](https://arxiv.org/pdf/1810.04805.pdf)\n",
    "- [Maarten Sap, Hannah Rashkin, Derek Chen, Ronan Le Bras, and Yejin Choi. 2019. Social IQa: Commonsense Reasoning about Social Interactions. In Proceedings of the 2019 Conference on Empirical Methods in Natural Language Processing and the 9th International Joint Conference on Natural Language Processing (EMNLP-IJCNLP), pages 4463–4473, Hong Kong, China. Association for Computational Linguistics.] (https://arxiv.org/pdf/1810.04805.pdf)"
   ]
  },
  {
   "cell_type": "code",
   "execution_count": null,
   "id": "26c077e7",
   "metadata": {},
   "outputs": [],
   "source": [
    "try:\n",
    "    from google.colab import drive\n",
    "    drive.mount('/content/gdrive')\n",
    "    siqa_data_dir = \"gdrive/MyDrive/PlakshaNLP2023/Lab2/data/socialiqa-train-dev/\"\n",
    "except:\n",
    "    siqa_data_dir = \"/datadrive/t-kabir/work/repos/PlakshaNLP/TLPNLP2023/source/Lab2/data/socialiqa-train-dev/\""
   ]
  },
  {
   "cell_type": "code",
   "execution_count": null,
   "id": "3242992d",
   "metadata": {
    "deletable": false,
    "editable": false,
    "nbgrader": {
     "cell_type": "code",
     "checksum": "9b746d7065e47851c69e7bd3f33db670",
     "grade": false,
     "grade_id": "cell-00e4313e5ec6522c",
     "locked": true,
     "schema_version": 3,
     "solution": false,
     "task": false
    }
   },
   "outputs": [],
   "source": [
    "# Install required libraries\n",
    "!pip install numpy\n",
    "!pip install pandas\n",
    "!pip install torch\n",
    "!pip install tqdm\n",
    "!pip install matplotlib\n",
    "!pip install transformers\n",
    "!pip install scikit-learn\n",
    "!pip install tqdm"
   ]
  },
  {
   "cell_type": "code",
   "execution_count": null,
   "id": "9e7b0e64",
   "metadata": {
    "deletable": false,
    "editable": false,
    "nbgrader": {
     "cell_type": "code",
     "checksum": "6f6521e81b123c3d00a56e3fca57d658",
     "grade": false,
     "grade_id": "cell-eb2f90d7f62cad18",
     "locked": true,
     "schema_version": 3,
     "solution": false,
     "task": false
    }
   },
   "outputs": [],
   "source": [
    "# We start by importing libraries that we will be making use of in the assignment.\n",
    "import os\n",
    "from functools import partial\n",
    "import json\n",
    "from pprint import pprint\n",
    "import numpy as np\n",
    "import pandas as pd\n",
    "import torch\n",
    "import torch.nn as nn\n",
    "from torch.optim import Adam\n",
    "import matplotlib.pyplot as plt\n",
    "import seaborn as sns\n",
    "from sklearn.model_selection import train_test_split\n",
    "import copy\n",
    "from tqdm.notebook import tqdm\n",
    "\n",
    "from transformers.utils import logging\n",
    "logging.set_verbosity(40) # to avoid warnings from transformers"
   ]
  },
  {
   "cell_type": "markdown",
   "id": "3c04bc11",
   "metadata": {},
   "source": [
    "## SocialIQA Dataset\n",
    "\n",
    "We start by discussing the dataset that we will making use of in today's Lab. As described above SocialIQA was designed to learn and measure social and emotional intelligence in NLP models. It is a multiple choice classification task, where you are given a context of some social situation, a question about the context and then three possible answers to the questions. The task is to predict which of the three options answers the question given the context.\n",
    "\n",
    "![siqa dataset](https://i.ibb.co/s5tMpY8/siqa.png)\n",
    "\n",
    "Below we load the dataset in memory"
   ]
  },
  {
   "cell_type": "code",
   "execution_count": null,
   "id": "b3f82e9d",
   "metadata": {
    "deletable": false,
    "editable": false,
    "nbgrader": {
     "cell_type": "code",
     "checksum": "5d3586a8ea681ba874073f19efd8d10d",
     "grade": false,
     "grade_id": "cell-61ae8095088b1abc",
     "locked": true,
     "schema_version": 3,
     "solution": false,
     "task": false
    }
   },
   "outputs": [],
   "source": [
    "def load_siqa_data(split):\n",
    "\n",
    "    # We first load the file containing context, question and answers\n",
    "    with open(f\"data/socialiqa-train-dev/{split}.jsonl\") as f:\n",
    "        data = [json.loads(jline) for jline in f.read().splitlines()]\n",
    "\n",
    "    # We then load the file containing the correct answer for each question\n",
    "    with open(f\"data/socialiqa-train-dev/{split}-labels.lst\") as f:\n",
    "        labels = f.read().splitlines()\n",
    "\n",
    "    labels_dict = {\"1\": \"A\", \"2\": \"B\", \"3\": \"C\"}\n",
    "    labels = [labels_dict[label] for label in labels]\n",
    "\n",
    "    return data, labels\n",
    "\n",
    "\n",
    "train_data, train_labels = load_siqa_data(\"train\")\n",
    "dev_data, dev_labels = load_siqa_data(\"dev\")\n",
    "\n",
    "print(f\"Number of Training Examples: {len(train_data)}\")\n",
    "print(f\"Number of Validation Examples: {len(dev_data)}\")"
   ]
  },
  {
   "cell_type": "code",
   "execution_count": null,
   "id": "3dc04307",
   "metadata": {},
   "outputs": [],
   "source": [
    "sns.countplot(x = train_labels)"
   ]
  },
  {
   "cell_type": "code",
   "execution_count": null,
   "id": "adf24a61",
   "metadata": {
    "deletable": false,
    "editable": false,
    "nbgrader": {
     "cell_type": "code",
     "checksum": "70e3ecb51abfd2ca15b0b8f5f24de0e7",
     "grade": false,
     "grade_id": "cell-602fe165abcf4503",
     "locked": true,
     "schema_version": 3,
     "solution": false,
     "task": false
    }
   },
   "outputs": [],
   "source": [
    "# View a sample of the dataset\n",
    "print(\"Example from dataset\")\n",
    "pprint(train_data[100], sort_dicts=False, indent=4)\n",
    "print(f\"Label: {train_labels[100]}\")"
   ]
  },
  {
   "cell_type": "code",
   "execution_count": null,
   "id": "271a12e6",
   "metadata": {},
   "outputs": [],
   "source": [
    "train_data[500]"
   ]
  },
  {
   "cell_type": "markdown",
   "id": "99a6b904",
   "metadata": {
    "deletable": false,
    "editable": false,
    "nbgrader": {
     "cell_type": "markdown",
     "checksum": "e77cbee4bcad7c097c84525407a83d89",
     "grade": false,
     "grade_id": "cell-23562a8e437add81",
     "locked": true,
     "schema_version": 3,
     "solution": false,
     "task": false
    }
   },
   "source": [
    "## Task 1: Tokenization and Data Preperation (1 hour)"
   ]
  },
  {
   "cell_type": "markdown",
   "id": "0af7f506",
   "metadata": {
    "deletable": false,
    "editable": false,
    "nbgrader": {
     "cell_type": "markdown",
     "checksum": "9634252b2664ab163c234b45f7cac77f",
     "grade": false,
     "grade_id": "cell-ee0e1d7bb6a346a4",
     "locked": true,
     "schema_version": 3,
     "solution": false,
     "task": false
    }
   },
   "source": [
    "As discussed in the lectures, BERT and other pretrained language models use sub-word tokenization i.e. individual words can also be split into constituent subwords to reduce the vocabulary size. The Transformer library provides tokenizer for all the popular language models. Below we demonstrate how to create and use these tokenizers."
   ]
  },
  {
   "cell_type": "code",
   "execution_count": null,
   "id": "4e8aa458",
   "metadata": {
    "deletable": false,
    "editable": false,
    "nbgrader": {
     "cell_type": "code",
     "checksum": "1791efdd95ba6e41368fcf3d0e742e0b",
     "grade": false,
     "grade_id": "cell-cf4d278c7b6855d7",
     "locked": true,
     "schema_version": 3,
     "solution": false,
     "task": false
    }
   },
   "outputs": [],
   "source": [
    "# Import the BertTokenizer from the library\n",
    "from transformers import BertTokenizer\n",
    "\n",
    "# Load a pre-trained BERT Tokenizer\n",
    "bert_tokenizer = BertTokenizer.from_pretrained(\"bert-base-uncased\")"
   ]
  },
  {
   "cell_type": "markdown",
   "id": "30724776",
   "metadata": {
    "deletable": false,
    "editable": false,
    "nbgrader": {
     "cell_type": "markdown",
     "checksum": "ec587bee5c51d19bfe0135af7f8514b4",
     "grade": false,
     "grade_id": "cell-e5d5e6b75df21d75",
     "locked": true,
     "schema_version": 3,
     "solution": false,
     "task": false
    }
   },
   "source": [
    "`BertTokenizer.from_pretrained` is used to load a pre-trained tokenizer. Notice that we provide the argument `\"bert-base-uncased\"` to the method. This refers to the variant of BERT that we want to use. The term \"base\" means we want to use the smaller BERT variant i.e. the one with 12 layers, and \"uncased\" refers to the fact that it treats upper-case and lower-case characters identically. There are 4 variants available for BERT which are:\n",
    "    - `bert-base-uncased`\n",
    "    - `bert-base-cased`\n",
    "    - `bert-large-uncased`\n",
    "    - `bert-large-cased`\n",
    "Now that we have loaded the tokenizer, let's see how to use it."
   ]
  },
  {
   "cell_type": "markdown",
   "id": "13523cc5",
   "metadata": {
    "deletable": false,
    "editable": false,
    "nbgrader": {
     "cell_type": "markdown",
     "checksum": "4cce224a12854b52864b4a47c8cf6afc",
     "grade": false,
     "grade_id": "cell-64c955b108dc7281",
     "locked": true,
     "schema_version": 3,
     "solution": false,
     "task": false
    }
   },
   "source": [
    "`tokenize` method can be used to split the text into sequence of tokens"
   ]
  },
  {
   "cell_type": "code",
   "execution_count": null,
   "id": "5ccbad09",
   "metadata": {
    "deletable": false,
    "editable": false,
    "nbgrader": {
     "cell_type": "code",
     "checksum": "b3bbc88079b2d0531a7be74670e9edb6",
     "grade": false,
     "grade_id": "cell-d232c469d8bd9d8b",
     "locked": true,
     "schema_version": 3,
     "solution": false,
     "task": false
    }
   },
   "outputs": [],
   "source": [
    "bert_tokenizer.tokenize(\"kendall was a person who kept her word exquisitely, so she got my money the other day\")"
   ]
  },
  {
   "cell_type": "markdown",
   "id": "daced828",
   "metadata": {
    "deletable": false,
    "editable": false,
    "nbgrader": {
     "cell_type": "markdown",
     "checksum": "0b2c517ab6b6cf3d2e479b89ce221764",
     "grade": false,
     "grade_id": "cell-20733e8cd4cc9db8",
     "locked": true,
     "schema_version": 3,
     "solution": false,
     "task": false
    }
   },
   "source": [
    "Notice how the tokenizer not only splits the text into words but also subwords like \"exquisitely\" is split into \"exquisite\" and \"ly\". "
   ]
  },
  {
   "cell_type": "markdown",
   "id": "d7260263",
   "metadata": {
    "deletable": false,
    "editable": false,
    "nbgrader": {
     "cell_type": "markdown",
     "checksum": "e24402cff8fc0e8a3dcfda8fe8eead78",
     "grade": false,
     "grade_id": "cell-c2120e5f1d50ce3e",
     "locked": true,
     "schema_version": 3,
     "solution": false,
     "task": false
    }
   },
   "source": [
    "Another use case of the tokenizer is to convert the tokens into indices. This is important because BERT and almost all language models takes as the inputs a sequence of token ids, which they use to map into embeddings. `convert_tokens_to_ids` method can be used to do this"
   ]
  },
  {
   "cell_type": "code",
   "execution_count": null,
   "id": "dbee421b",
   "metadata": {
    "deletable": false,
    "editable": false,
    "nbgrader": {
     "cell_type": "code",
     "checksum": "7d55893b443134e6f92a1f6620c0f751",
     "grade": false,
     "grade_id": "cell-3a05f425316cea54",
     "locked": true,
     "schema_version": 3,
     "solution": false,
     "task": false
    }
   },
   "outputs": [],
   "source": [
    "sentence = \"kendall was a person who kept her word exquisitely, so she got my money the other day\"\n",
    "tokens = bert_tokenizer.tokenize(sentence)\n",
    "token_ids = bert_tokenizer.convert_tokens_to_ids(tokens)\n",
    "print(token_ids)"
   ]
  },
  {
   "cell_type": "markdown",
   "id": "efd54a05",
   "metadata": {
    "deletable": false,
    "editable": false,
    "nbgrader": {
     "cell_type": "markdown",
     "checksum": "1e4e23bc6201fae04c7d4fd982288e98",
     "grade": false,
     "grade_id": "cell-4ee63c56c4ce3e10",
     "locked": true,
     "schema_version": 3,
     "solution": false,
     "task": false
    }
   },
   "source": [
    "The two steps can also be combined by simply calling the tokenizer object"
   ]
  },
  {
   "cell_type": "code",
   "execution_count": null,
   "id": "bfcbb696",
   "metadata": {
    "deletable": false,
    "editable": false,
    "nbgrader": {
     "cell_type": "code",
     "checksum": "f1887b57da3c78d52ecf03ce6e405a29",
     "grade": false,
     "grade_id": "cell-0e587013451e87df",
     "locked": true,
     "schema_version": 3,
     "solution": false,
     "task": false
    }
   },
   "outputs": [],
   "source": [
    "pprint(bert_tokenizer(sentence), sort_dicts=False, indent=4)"
   ]
  },
  {
   "cell_type": "markdown",
   "id": "2ab48ddf",
   "metadata": {
    "deletable": false,
    "editable": false,
    "nbgrader": {
     "cell_type": "markdown",
     "checksum": "7b1a833f0f503757099493ad4e6bad0f",
     "grade": false,
     "grade_id": "cell-19c0f71b49a7786a",
     "locked": true,
     "schema_version": 3,
     "solution": false,
     "task": false
    }
   },
   "source": [
    "Notice that it returns a bunch of things in addition to the ids. The `\"input_ids\"` are just the token ids that we obtained in the previous cell. However you will notice that it has a few additional ids, it starts with 101 and ends with 102. These are what we call special tokens and correspond the \\[CLS\\] and \\[SEP\\] tokens used by BERT. \\[CLS\\] token is mainly added to beginning of each sequence, and its representations are used to perform sequence classification. More on \\[SEP\\] token later.\n",
    "\n",
    "`\"token_type_ids\"` contains which sequence does a particular token belongs to.\n",
    "\n",
    "`\"attention_mask`\" is a mask vector that indicates if a particular token corresponds to padding. Padding is extremely important when we are dealing with variable length sequences, which is almost always the case. Through padding we can ensure that all the sequences in a batch are of same size. However, while processing the sequence we need ignore these padding tokens, hence a mask is required to identify such tokens.\n",
    "\n",
    "We can tokenize a batch of sequences by just providing a list instead of a string while calling the tokenizer and later pad them using the `.pad` method."
   ]
  },
  {
   "cell_type": "code",
   "execution_count": null,
   "id": "1d2c0925",
   "metadata": {
    "deletable": false,
    "editable": false,
    "nbgrader": {
     "cell_type": "code",
     "checksum": "d4a48370450acebae8f9a4b7953eff16",
     "grade": false,
     "grade_id": "cell-14fe0d9b9608e600",
     "locked": true,
     "schema_version": 3,
     "solution": false,
     "task": false
    }
   },
   "outputs": [],
   "source": [
    "batch_size = 4\n",
    "sentence_batch = [train_data[i][\"context\"] for i in range(batch_size)]\n",
    "\n",
    "#Tokenize the batch of sequences\n",
    "tokenized_batch = bert_tokenizer(sentence_batch)\n",
    "\n",
    "# Pad the tokenized batch\n",
    "tokenized_batch_padded = bert_tokenizer.pad(tokenized_batch, padding=True, max_length=32, return_tensors=\"pt\")\n",
    "\n",
    "input_ids = tokenized_batch_padded[\"input_ids\"]\n",
    "attn_mask = tokenized_batch_padded[\"attention_mask\"]\n",
    "print(f\"Input Ids shape: {input_ids.shape}\")\n",
    "print(f\"Attention Mask shape: {attn_mask.shape}\")\n",
    "\n",
    "pprint(f\"Input Ids:\\n {input_ids}\\n\")\n",
    "pprint(f\"Attention Mask:\\n {attn_mask}\\n\")"
   ]
  },
  {
   "cell_type": "markdown",
   "id": "fc12c5d0",
   "metadata": {
    "deletable": false,
    "editable": false,
    "nbgrader": {
     "cell_type": "markdown",
     "checksum": "fce3fa2c6deedb93b575d9cb4e28d20f",
     "grade": false,
     "grade_id": "cell-c42c7d946429adc4",
     "locked": true,
     "schema_version": 3,
     "solution": false,
     "task": false
    }
   },
   "source": [
    "Notice how 0s get appended to the input ids sequence, and the same is also reflected in the output of `attn_mask` where `0` indicates that the particular token was padded and `1` means otherwise. Setting `return_tensors=\"pt\"` results in the outputs as torch tensors"
   ]
  },
  {
   "cell_type": "markdown",
   "id": "c4e65595",
   "metadata": {
    "deletable": false,
    "editable": false,
    "nbgrader": {
     "cell_type": "markdown",
     "checksum": "db13d05cd5920e98eeaf5bb761b1075c",
     "grade": false,
     "grade_id": "cell-673d0a006e2f027a",
     "locked": true,
     "schema_version": 3,
     "solution": false,
     "task": false
    }
   },
   "source": [
    "Finally, for tasks involving reasoning over multiple sentences (like what we have for the SocialIQA dataset), it is common to seperate out each sentence using a \\[SEP\\] token:\n",
    "\n",
    "<img src=\"https://i.ibb.co/Nx8mK1P/bert-sentence-pair.jpg\" alt=\"bert-sentence-pair\" border=\"0\">\n",
    "\n",
    "We can achieve this by adding concatenating all sentences with the `[SEP]` token before calling the tokenizer"
   ]
  },
  {
   "cell_type": "code",
   "execution_count": null,
   "id": "19f0e7bd",
   "metadata": {
    "deletable": false,
    "editable": false,
    "nbgrader": {
     "cell_type": "code",
     "checksum": "6cd951f70f83b450715fb2af85c023fe",
     "grade": false,
     "grade_id": "cell-a7fcef5940c3feb8",
     "locked": true,
     "schema_version": 3,
     "solution": false,
     "task": false
    }
   },
   "outputs": [],
   "source": [
    "example = train_data[100]\n",
    "context = example[\"context\"]\n",
    "question = example[\"question\"]\n",
    "answerA = example[\"answerA\"]\n",
    "\n",
    "# Concatenate the context, question and answerA\n",
    "cqa = context + bert_tokenizer.sep_token + question + bert_tokenizer.sep_token + answerA\n",
    "print(cqa)\n",
    "\n",
    "tokenized_cqa = bert_tokenizer(cqa)\n",
    "pprint(tokenized_cqa, sort_dicts=False, indent=4)"
   ]
  },
  {
   "cell_type": "markdown",
   "id": "db9af625",
   "metadata": {
    "deletable": false,
    "editable": false,
    "nbgrader": {
     "cell_type": "markdown",
     "checksum": "f52a28ddb4d75b1276a34f6979c44e06",
     "grade": false,
     "grade_id": "cell-b6df8e66edd0daed",
     "locked": true,
     "schema_version": 3,
     "solution": false,
     "task": false
    }
   },
   "source": [
    "For the reasons that will become clear once we work on the modeling part, we need three input tensors for each dataset example, one for concatenating each answer with the context and question."
   ]
  },
  {
   "cell_type": "code",
   "execution_count": null,
   "id": "4a8bddb8",
   "metadata": {
    "deletable": false,
    "editable": false,
    "nbgrader": {
     "cell_type": "code",
     "checksum": "08e2c414ebaa5ef36cf53cb8bd764c54",
     "grade": false,
     "grade_id": "cell-01d931a0dfdd5054",
     "locked": true,
     "schema_version": 3,
     "solution": false,
     "task": false
    }
   },
   "outputs": [],
   "source": [
    "example = train_data[100]\n",
    "context = example[\"context\"]\n",
    "question = example[\"question\"]\n",
    "answerA = example[\"answerA\"]\n",
    "answerB = example[\"answerB\"]\n",
    "answerC = example[\"answerC\"]\n",
    "\n",
    "cqaA = context + bert_tokenizer.sep_token + question + bert_tokenizer.sep_token + answerA\n",
    "cqaB = context + bert_tokenizer.sep_token + question + bert_tokenizer.sep_token + answerB\n",
    "cqaC = context + bert_tokenizer.sep_token + question + bert_tokenizer.sep_token + answerC\n",
    "\n",
    "print(cqaA)\n",
    "print(cqaB)\n",
    "print(cqaC)\n",
    "\n",
    "tokenized_cqaA = bert_tokenizer(cqaA)\n",
    "tokenized_cqaB = bert_tokenizer(cqaB)\n",
    "tokenized_cqaC = bert_tokenizer(cqaC)\n"
   ]
  },
  {
   "cell_type": "markdown",
   "id": "4627768e",
   "metadata": {
    "deletable": false,
    "editable": false,
    "nbgrader": {
     "cell_type": "markdown",
     "checksum": "32623222e465ee736771be5decbe6f1c",
     "grade": false,
     "grade_id": "cell-a3cb841c571f2b47",
     "locked": true,
     "schema_version": 3,
     "solution": false,
     "task": false
    }
   },
   "source": [
    "## Task 1.1: Custom Dataset Class\n",
    "\n",
    "Now that we know how to use the hugging face tokenizers we can define the custom `torch.utils.Dataset` class like we did in the previous assignments to process and store the data as well as provides a way to iterate through the dataset. Implement the `SIQABertDataset` class below. Recall to create a custom class you need to implement 3 methods `__init__`, `__len__` and `__getitem__`."
   ]
  },
  {
   "cell_type": "code",
   "execution_count": null,
   "id": "65ffd2ac",
   "metadata": {
    "deletable": false,
    "nbgrader": {
     "cell_type": "code",
     "checksum": "5b1458f97a435cb685eec31b40452871",
     "grade": false,
     "grade_id": "cell-84536c665947d263",
     "locked": false,
     "schema_version": 3,
     "solution": true,
     "task": false
    }
   },
   "outputs": [],
   "source": [
    "from torch.utils.data import Dataset, DataLoader\n",
    "\n",
    "class SIQABertDataset(Dataset):\n",
    "    \n",
    "    def __init__(self, data, labels, bert_variant = \"bert-base-uncased\"):\n",
    "        \"\"\"\n",
    "        Constructor for the `SST2BertDataset` class. Stores the `sentences` and `labels` which can then be used by\n",
    "        other methods. Also initializes the tokenizer\n",
    "        \n",
    "        Inputs:\n",
    "            - data (list) : A list SIQA dataset examples\n",
    "            - labels (list): A list of labels corresponding to each example\n",
    "            - bert_variant (str): A string indicating the variant of BERT to be used.\n",
    "        \"\"\"\n",
    "        self.label2label_id = {\"A\": 0, \"B\": 1, \"C\": 2}\n",
    "        self.data = None\n",
    "        self.labels = None\n",
    "        self.tokenizer = None\n",
    "        \n",
    "        # YOUR CODE HERE\n",
    "        raise NotImplementedError()\n",
    "        \n",
    "    def __len__(self):\n",
    "        \"\"\"\n",
    "        Returns the length of the dataset\n",
    "        \"\"\"\n",
    "        length = None\n",
    "        \n",
    "        # YOUR CODE HERE\n",
    "        raise NotImplementedError()\n",
    "        \n",
    "        return length\n",
    "    \n",
    "    def __getitem__(self, idx):\n",
    "        \"\"\"\n",
    "        Returns the training example corresponding to review present at the `idx` position in the dataset\n",
    "        \n",
    "        Inputs:\n",
    "            - idx (int): Index corresponding to the review,label to be returned\n",
    "            \n",
    "        Returns:\n",
    "            - tokenized_input_dict (dict(str, dict)): A dictionary corresponding to tokenizer outputs for the three resulting sequences due to each answer choices as described above\n",
    "            - label (int): Answer label for the corresponding sentence. We will use 0, 1 and 2 to represent A, B and C respectively.\n",
    "        \n",
    "        Example Output:\n",
    "            - tokenized_input_dict: {\n",
    "                \"A\": {'input_ids': [101, 5207, 1005, 1055, 3899, 21392, 2094, 2006, 1996, 6411, 2027, 2020, 4855, 1998, 5207, 3718, 1996, 19255, 2004, 2574, 2004, 2825, 1012, 102, 2129, 2052, 5207, 2514, 5728, 1029, 102, 4855, 1037, 6411, 102], 'token_type_ids': [0, 0, 0, 0, 0, 0, 0, 0, 0, 0, 0, 0, 0, 0, 0, 0, 0, 0, 0, 0, 0, 0, 0, 0, 0, 0, 0, 0, 0, 0, 0, 0, 0, 0, 0], 'attention_mask': [1, 1, 1, 1, 1, 1, 1, 1, 1, 1, 1, 1, 1, 1, 1, 1, 1, 1, 1, 1, 1, 1, 1, 1, 1, 1, 1, 1, 1, 1, 1, 1, 1, 1, 1]},\n",
    "                \"B\": {'input_ids': [101, 5207, 1005, 1055, 3899, 21392, 2094, 2006, 1996, 6411, 2027, 2020, 4855, 1998, 5207, 3718, 1996, 19255, 2004, 2574, 2004, 2825, 1012, 102, 2129, 2052, 5207, 2514, 5728, 1029, 102, 17733, 102], 'token_type_ids': [0, 0, 0, 0, 0, 0, 0, 0, 0, 0, 0, 0, 0, 0, 0, 0, 0, 0, 0, 0, 0, 0, 0, 0, 0, 0, 0, 0, 0, 0, 0, 0, 0], 'attention_mask': [1, 1, 1, 1, 1, 1, 1, 1, 1, 1, 1, 1, 1, 1, 1, 1, 1, 1, 1, 1, 1, 1, 1, 1, 1, 1, 1, 1, 1, 1, 1, 1, 1]},\n",
    "                \"C\": {'input_ids': [101, 5207, 1005, 1055, 3899, 21392, 2094, 2006, 1996, 6411, 2027, 2020, 4855, 1998, 5207, 3718, 1996, 19255, 2004, 2574, 2004, 2825, 1012, 102, 2129, 2052, 5207, 2514, 5728, 1029, 102, 7653, 102], 'token_type_ids': [0, 0, 0, 0, 0, 0, 0, 0, 0, 0, 0, 0, 0, 0, 0, 0, 0, 0, 0, 0, 0, 0, 0, 0, 0, 0, 0, 0, 0, 0, 0, 0, 0], 'attention_mask': [1, 1, 1, 1, 1, 1, 1, 1, 1, 1, 1, 1, 1, 1, 1, 1, 1, 1, 1, 1, 1, 1, 1, 1, 1, 1, 1, 1, 1, 1, 1, 1, 1]}\n",
    "            }\n",
    "            - label: 0\n",
    "\n",
    "        \"\"\"\n",
    "        \n",
    "        tokenized_input_dict = {\"A\": None, \"B\": None, \"C\": None}\n",
    "        label = None\n",
    "        \n",
    "        # YOUR CODE HERE\n",
    "        raise NotImplementedError()\n",
    "        \n",
    "        return tokenized_input_dict, label"
   ]
  },
  {
   "cell_type": "code",
   "execution_count": null,
   "id": "7b8c8dea",
   "metadata": {
    "deletable": false,
    "editable": false,
    "nbgrader": {
     "cell_type": "code",
     "checksum": "dafc70d40580a2a14cc89778b4a1c88d",
     "grade": true,
     "grade_id": "cell-0ff4b72642c7bacb",
     "locked": true,
     "points": 2,
     "schema_version": 3,
     "solution": false,
     "task": false
    }
   },
   "outputs": [],
   "source": [
    "print(\"Running Sample Test Cases\")\n",
    "\n",
    "sample_dataset = SIQABertDataset(train_data[:2], train_labels[:2], bert_variant=\"bert-base-uncased\")\n",
    "\n",
    "print(f\"Sample Test Case 1: Checking if `__len__` is implemented correctly\")\n",
    "dataset_len= len(sample_dataset)\n",
    "expected_len = 2\n",
    "print(f\"Dataset Length: {dataset_len}\")\n",
    "print(f\"Expected Length: {expected_len}\")\n",
    "assert len(sample_dataset) == expected_len\n",
    "print(\"Sample Test Case Passed!\")\n",
    "print(\"****************************************\\n\")\n",
    "\n",
    "print(f\"Sample Test Case 2: Checking if `__getitem__` is implemented correctly for `idx= 0`\")\n",
    "sample_idx = 0\n",
    "tokenized_input_dict, label = sample_dataset.__getitem__(sample_idx)\n",
    "expected_tokenized_input_dict = {'A': {'input_ids': [101, 7232, 2787, 2000, 2031, 1037, 26375, 1998, 5935, 2014, 2814, 2362, 1012, 102, 2129, 2052, 2500, 2514, 2004, 1037, 2765, 1029, 102, 2066, 7052, 102], 'token_type_ids': [0, 0, 0, 0, 0, 0, 0, 0, 0, 0, 0, 0, 0, 0, 0, 0, 0, 0, 0, 0, 0, 0, 0, 0, 0, 0], 'attention_mask': [1, 1, 1, 1, 1, 1, 1, 1, 1, 1, 1, 1, 1, 1, 1, 1, 1, 1, 1, 1, 1, 1, 1, 1, 1, 1]},\n",
    "  'B': {'input_ids': [101, 7232, 2787, 2000, 2031, 1037, 26375, 1998, 5935, 2014, 2814, 2362, 1012, 102, 2129, 2052, 2500, 2514, 2004, 1037, 2765, 1029, 102, 2066, 6595, 2188, 102], 'token_type_ids': [0, 0, 0, 0, 0, 0, 0, 0, 0, 0, 0, 0, 0, 0, 0, 0, 0, 0, 0, 0, 0, 0, 0, 0, 0, 0, 0], 'attention_mask': [1, 1, 1, 1, 1, 1, 1, 1, 1, 1, 1, 1, 1, 1, 1, 1, 1, 1, 1, 1, 1, 1, 1, 1, 1, 1, 1]},\n",
    "  'C': {'input_ids': [101, 7232, 2787, 2000, 2031, 1037, 26375, 1998, 5935, 2014, 2814, 2362, 1012, 102, 2129, 2052, 2500, 2514, 2004, 1037, 2765, 1029, 102, 1037, 2204, 2767, 2000, 2031, 102], 'token_type_ids': [0, 0, 0, 0, 0, 0, 0, 0, 0, 0, 0, 0, 0, 0, 0, 0, 0, 0, 0, 0, 0, 0, 0, 0, 0, 0, 0, 0, 0], 'attention_mask': [1, 1, 1, 1, 1, 1, 1, 1, 1, 1, 1, 1, 1, 1, 1, 1, 1, 1, 1, 1, 1, 1, 1, 1, 1, 1, 1, 1, 1]}}\n",
    "expected_label = 0\n",
    "print(f\"tokenized_input_dict:\\n {tokenized_input_dict}\")\n",
    "print(f\"Expected tokenized_input_dict:\\n {expected_tokenized_input_dict}\")\n",
    "assert (expected_tokenized_input_dict == tokenized_input_dict)\n",
    "\n",
    "print(f\"label:\\n {label}\")\n",
    "print(f\"Expected label:\\n {expected_label}\")\n",
    "assert expected_label == label\n",
    "\n",
    "print(\"Sample Test Case Passed!\")\n",
    "print(\"****************************************\\n\")\n",
    "\n",
    "\n",
    "print(f\"Sample Test Case 3: Checking if `__getitem__` is implemented correctly for `idx= 1`\")\n",
    "sample_idx = 1\n",
    "tokenized_input_dict, label = sample_dataset.__getitem__(sample_idx)\n",
    "expected_tokenized_input_dict =  {'A': {'input_ids': [101, 5553, 2734, 2000, 2507, 2041, 5841, 2005, 2019, 9046, 2622, 2012, 2147, 1012, 102, 2054, 2097, 2500, 2215, 2000, 2079, 2279, 1029, 102, 21090, 2007, 5553, 102], 'token_type_ids': [0, 0, 0, 0, 0, 0, 0, 0, 0, 0, 0, 0, 0, 0, 0, 0, 0, 0, 0, 0, 0, 0, 0, 0, 0, 0, 0, 0], 'attention_mask': [1, 1, 1, 1, 1, 1, 1, 1, 1, 1, 1, 1, 1, 1, 1, 1, 1, 1, 1, 1, 1, 1, 1, 1, 1, 1, 1, 1]}, \n",
    "                                  'B': {'input_ids': [101, 5553, 2734, 2000, 2507, 2041, 5841, 2005, 2019, 9046, 2622, 2012, 2147, 1012, 102, 2054, 2097, 2500, 2215, 2000, 2079, 2279, 1029, 102, 2131, 2000, 2147, 102], 'token_type_ids': [0, 0, 0, 0, 0, 0, 0, 0, 0, 0, 0, 0, 0, 0, 0, 0, 0, 0, 0, 0, 0, 0, 0, 0, 0, 0, 0, 0], 'attention_mask': [1, 1, 1, 1, 1, 1, 1, 1, 1, 1, 1, 1, 1, 1, 1, 1, 1, 1, 1, 1, 1, 1, 1, 1, 1, 1, 1, 1]},\n",
    "                                'C': {'input_ids': [101, 5553, 2734, 2000, 2507, 2041, 5841, 2005, 2019, 9046, 2622, 2012, 2147, 1012, 102, 2054, 2097, 2500, 2215, 2000, 2079, 2279, 1029, 102, 7475, 2007, 1996, 14799, 102], 'token_type_ids': [0, 0, 0, 0, 0, 0, 0, 0, 0, 0, 0, 0, 0, 0, 0, 0, 0, 0, 0, 0, 0, 0, 0, 0, 0, 0, 0, 0, 0], 'attention_mask': [1, 1, 1, 1, 1, 1, 1, 1, 1, 1, 1, 1, 1, 1, 1, 1, 1, 1, 1, 1, 1, 1, 1, 1, 1, 1, 1, 1, 1]}}\n",
    "\n",
    "\n",
    "expected_label = 1\n",
    "print(f\"tokenized_input_dict:\\n {tokenized_input_dict}\")\n",
    "print(f\"Expected tokenized_input_dict:\\n {expected_tokenized_input_dict}\")\n",
    "assert (expected_tokenized_input_dict == tokenized_input_dict)\n",
    "\n",
    "print(f\"label:\\n {label}\")\n",
    "print(f\"Expected label:\\n {expected_label}\")\n",
    "assert expected_label == label\n",
    "\n",
    "print(\"Sample Test Case Passed!\")\n",
    "print(\"****************************************\\n\")\n",
    "\n",
    "print(f\"Sample Test Case 4: Checking if `__getitem__` is implemented correctly for `idx= 0` for a different bert-variant\")\n",
    "sample_dataset = SIQABertDataset(train_data[:2], train_labels[:2], bert_variant=\"bert-base-cased\")\n",
    "sample_idx = 0\n",
    "tokenized_input_dict, label = sample_dataset.__getitem__(sample_idx)\n",
    "expected_tokenized_input_dict = {'A': {'input_ids': [101, 6681, 1879, 1106, 1138, 170, 2927, 3962, 27138, 1105, 5260, 1123, 2053, 1487, 119, 102, 1731, 1156, 8452, 1631, 1112, 170, 1871, 136, 102, 1176, 6546, 102], 'token_type_ids': [0, 0, 0, 0, 0, 0, 0, 0, 0, 0, 0, 0, 0, 0, 0, 0, 0, 0, 0, 0, 0, 0, 0, 0, 0, 0, 0, 0], 'attention_mask': [1, 1, 1, 1, 1, 1, 1, 1, 1, 1, 1, 1, 1, 1, 1, 1, 1, 1, 1, 1, 1, 1, 1, 1, 1, 1, 1, 1]},\n",
    " 'B': {'input_ids': [101, 6681, 1879, 1106, 1138, 170, 2927, 3962, 27138, 1105, 5260, 1123, 2053, 1487, 119, 102, 1731, 1156, 8452, 1631, 1112, 170, 1871, 136, 102, 1176, 6218, 1313, 102], 'token_type_ids': [0, 0, 0, 0, 0, 0, 0, 0, 0, 0, 0, 0, 0, 0, 0, 0, 0, 0, 0, 0, 0, 0, 0, 0, 0, 0, 0, 0, 0], 'attention_mask': [1, 1, 1, 1, 1, 1, 1, 1, 1, 1, 1, 1, 1, 1, 1, 1, 1, 1, 1, 1, 1, 1, 1, 1, 1, 1, 1, 1, 1]},\n",
    " 'C': {'input_ids': [101, 6681, 1879, 1106, 1138, 170, 2927, 3962, 27138, 1105, 5260, 1123, 2053, 1487, 119, 102, 1731, 1156, 8452, 1631, 1112, 170, 1871, 136, 102, 170, 1363, 1910, 1106, 1138, 102], 'token_type_ids': [0, 0, 0, 0, 0, 0, 0, 0, 0, 0, 0, 0, 0, 0, 0, 0, 0, 0, 0, 0, 0, 0, 0, 0, 0, 0, 0, 0, 0, 0, 0], 'attention_mask': [1, 1, 1, 1, 1, 1, 1, 1, 1, 1, 1, 1, 1, 1, 1, 1, 1, 1, 1, 1, 1, 1, 1, 1, 1, 1, 1, 1, 1, 1, 1]}}\n",
    "expected_label = 0\n",
    "print(f\"tokenized_input_dict:\\n {tokenized_input_dict}\")\n",
    "print(f\"Expected tokenized_input_dict:\\n {expected_tokenized_input_dict}\")\n",
    "assert (expected_tokenized_input_dict == tokenized_input_dict)\n",
    "\n",
    "print(f\"label:\\n {label}\")\n",
    "print(f\"Expected label:\\n {expected_label}\")\n",
    "assert expected_label == label\n",
    "\n",
    "print(\"Sample Test Case Passed!\")\n",
    "print(\"****************************************\\n\")\n"
   ]
  },
  {
   "cell_type": "markdown",
   "id": "8ec2e35e",
   "metadata": {
    "deletable": false,
    "editable": false,
    "nbgrader": {
     "cell_type": "markdown",
     "checksum": "cc5d11b79dc8589bdd3573c800432f66",
     "grade": false,
     "grade_id": "cell-cd1f8ca8abf3200c",
     "locked": true,
     "schema_version": 3,
     "solution": false,
     "task": false
    }
   },
   "source": [
    "We can now create Dataset instances for both training and dev datasets"
   ]
  },
  {
   "cell_type": "code",
   "execution_count": null,
   "id": "d3994ab0",
   "metadata": {
    "deletable": false,
    "editable": false,
    "nbgrader": {
     "cell_type": "code",
     "checksum": "735c155fc2aa10ce309a01ee3633e498",
     "grade": false,
     "grade_id": "cell-8429b84248f83374",
     "locked": true,
     "schema_version": 3,
     "solution": false,
     "task": false
    }
   },
   "outputs": [],
   "source": [
    "train_dataset = SIQABertDataset(train_data, train_labels, bert_variant=\"bert-base-uncased\")\n",
    "dev_dataset = SIQABertDataset(dev_data, dev_labels, bert_variant=\"bert-base-uncased\")"
   ]
  },
  {
   "cell_type": "markdown",
   "id": "fdbc4e1e",
   "metadata": {
    "deletable": false,
    "editable": false,
    "nbgrader": {
     "cell_type": "markdown",
     "checksum": "4be15d36f57f79a7c99c9ac3c6999af7",
     "grade": false,
     "grade_id": "cell-4c64650b199dc2fc",
     "locked": true,
     "schema_version": 3,
     "solution": false,
     "task": false
    }
   },
   "source": [
    "Before we instantiate the dataloaders for iterating over the dataset like last time, we need define a collate function, that creates batches from a list of dataset examples. In the last class we didn't have to create one, because all of our examples were of the same size, but that's not the case anymore, and we need to pad the sequences so that they all are of same size. We have implemented the collate_fn for you below, but we recommend going through it step by step, as it is used often in practice."
   ]
  },
  {
   "cell_type": "code",
   "execution_count": null,
   "id": "6ab6fb0b",
   "metadata": {
    "deletable": false,
    "editable": false,
    "nbgrader": {
     "cell_type": "code",
     "checksum": "a11cdf1b79593a7073b05a78506d044b",
     "grade": false,
     "grade_id": "cell-9047ce580136ef0f",
     "locked": true,
     "schema_version": 3,
     "solution": false,
     "task": false
    }
   },
   "outputs": [],
   "source": [
    "def collate_fn(tokenizer, batch):\n",
    "    \"\"\"\n",
    "    Collate function to be used when creating a data loader for the SIQA dataset.\n",
    "    :param tokenizer: The tokenizer to be used to tokenize the inputs.\n",
    "    :param batch: A list of tuples of the form (tokenized_input_dict, label)\n",
    "    :return: A tuple of the form (tokenized_inputs_dict_batch, labels_batch)\n",
    "    \"\"\"\n",
    "\n",
    "    tokenized_inputsA_batch = []\n",
    "    tokenized_inputsB_batch = []\n",
    "    tokenized_inputsC_batch = []\n",
    "    labels_batch = []\n",
    "    for tokenized_inputs_dict, label in batch:\n",
    "        tokenized_inputsA_batch.append(tokenized_inputs_dict[\"A\"])\n",
    "        tokenized_inputsB_batch.append(tokenized_inputs_dict[\"B\"])\n",
    "        tokenized_inputsC_batch.append(tokenized_inputs_dict[\"C\"])\n",
    "        labels_batch.append(label)\n",
    "\n",
    "    #Pad the inputs\n",
    "    tokenized_inputsA_batch = tokenizer.pad(tokenized_inputsA_batch, padding=True, return_tensors=\"pt\")\n",
    "    tokenized_inputsB_batch = tokenizer.pad(tokenized_inputsB_batch, padding=True, return_tensors=\"pt\")\n",
    "    tokenized_inputsC_batch = tokenizer.pad(tokenized_inputsC_batch, padding=True, return_tensors=\"pt\")\n",
    "\n",
    "    # Convert labels list to a tensor\n",
    "    labels_batch = torch.tensor(labels_batch)\n",
    "    return (\n",
    "        {\"A\": tokenized_inputsA_batch[\"input_ids\"], \"B\": tokenized_inputsB_batch[\"input_ids\"], \"C\": tokenized_inputsC_batch[\"input_ids\"]},\n",
    "        {\"A\": tokenized_inputsA_batch[\"attention_mask\"], \"B\": tokenized_inputsB_batch[\"attention_mask\"], \"C\": tokenized_inputsC_batch[\"attention_mask\"]},\n",
    "        labels_batch\n",
    "    )\n"
   ]
  },
  {
   "cell_type": "markdown",
   "id": "2548c845",
   "metadata": {
    "deletable": false,
    "editable": false,
    "nbgrader": {
     "cell_type": "markdown",
     "checksum": "276f9714f43f47be2ce8d32465f0dda0",
     "grade": false,
     "grade_id": "cell-e25eecdae3525f47",
     "locked": true,
     "schema_version": 3,
     "solution": false,
     "task": false
    }
   },
   "source": [
    "Now that we have defined the collate_fn, lets create the dataloaders. It is common to use smaller batch size while fine-tuning these big models, as they occupy quite a lot of memory."
   ]
  },
  {
   "cell_type": "code",
   "execution_count": null,
   "id": "6c8784f5",
   "metadata": {
    "deletable": false,
    "editable": false,
    "nbgrader": {
     "cell_type": "code",
     "checksum": "38520c5b41b69dc2a467c460409e961c",
     "grade": false,
     "grade_id": "cell-0155f0a92349c779",
     "locked": true,
     "schema_version": 3,
     "solution": false,
     "task": false
    }
   },
   "outputs": [],
   "source": [
    "batch_size = 16\n",
    "train_loader = DataLoader(train_dataset, batch_size=batch_size, shuffle=True, collate_fn=partial(collate_fn, train_dataset.tokenizer))\n",
    "dev_loader = DataLoader(dev_dataset, batch_size=batch_size, shuffle=True, collate_fn=partial(collate_fn, dev_dataset.tokenizer))"
   ]
  },
  {
   "cell_type": "code",
   "execution_count": null,
   "id": "b9b42884",
   "metadata": {
    "deletable": false,
    "editable": false,
    "nbgrader": {
     "cell_type": "code",
     "checksum": "7b9f3c4ce63be8d665ca5a5b7ea0f1cc",
     "grade": false,
     "grade_id": "cell-04007c519041a199",
     "locked": true,
     "schema_version": 3,
     "solution": false,
     "task": false
    }
   },
   "outputs": [],
   "source": [
    "batch_input_ids, batch_attn_mask, batch_labels = next(iter(train_loader))\n",
    "print(f\"batch_input_ids:\\n {batch_input_ids}\")\n",
    "print(f\"batch_attn_mask:\\n {batch_attn_mask}\")\n",
    "print(f\"batch_labels:\\n {batch_labels}\")"
   ]
  },
  {
   "cell_type": "markdown",
   "id": "849edfc0",
   "metadata": {
    "deletable": false,
    "editable": false,
    "nbgrader": {
     "cell_type": "markdown",
     "checksum": "7f5abac97eb62041f0add8617ad42871",
     "grade": false,
     "grade_id": "cell-21c75958035402dc",
     "locked": true,
     "schema_version": 3,
     "solution": false,
     "task": false
    }
   },
   "source": [
    "## Task 2: Implementing and Training BERT-based Multiple Choice Classifier (1 hour 30 minutes)\n",
    "\n",
    "Similar to pretrained tokenizers, the transformers library also provide numerous pre-trained language models that can be fine-tuned on a wide variety of downstream tasks. We demonstrate usage of these models below."
   ]
  },
  {
   "cell_type": "code",
   "execution_count": null,
   "id": "c9322600",
   "metadata": {
    "deletable": false,
    "editable": false,
    "nbgrader": {
     "cell_type": "code",
     "checksum": "292023c90e82c1cc3836a7c39718fb03",
     "grade": false,
     "grade_id": "cell-0518264e94de005b",
     "locked": true,
     "schema_version": 3,
     "solution": false,
     "task": false
    }
   },
   "outputs": [],
   "source": [
    "# Import BertModel from the library\n",
    "from transformers import BertModel\n",
    "\n",
    "# Create an instance of pretrained BERT\n",
    "bert_model = BertModel.from_pretrained(\"bert-base-uncased\")\n",
    "bert_model"
   ]
  },
  {
   "cell_type": "markdown",
   "id": "4a7f074b",
   "metadata": {
    "deletable": false,
    "editable": false,
    "nbgrader": {
     "cell_type": "markdown",
     "checksum": "98a82e5b7717eda4f5226c6ae269fe58",
     "grade": false,
     "grade_id": "cell-ad0d391f24e70315",
     "locked": true,
     "schema_version": 3,
     "solution": false,
     "task": false
    }
   },
   "source": [
    "As you can see very similar to how we created pre-trained tokenizer, we can load a pretrained BERT model by calling `BertModel.from_pretrained(bert-base-uncased)`. This can actually be considered just a Pytorch `nn.Module` like `nn.Linear` and can be similarly plugged into a network architecture. Also, notice the model contains 12 BERT layers, where each layer consists of a Self Attention layer followed by a sequence of linear layers and activation functions (MLP), as we discussed when talking about Transformer architecture in the lecture."
   ]
  },
  {
   "cell_type": "code",
   "execution_count": null,
   "id": "c994b139",
   "metadata": {
    "deletable": false,
    "editable": false,
    "nbgrader": {
     "cell_type": "code",
     "checksum": "ac922a7cea63724c27c0cf5c6f00ad83",
     "grade": false,
     "grade_id": "cell-44c7f2f43d5ba025",
     "locked": true,
     "schema_version": 3,
     "solution": false,
     "task": false
    }
   },
   "outputs": [],
   "source": [
    "sentence = \"kendall was a person who kept her word exquisitely, so she got my money the other day\"\n",
    "tokenizer_output = bert_tokenizer(sentence, return_tensors=\"pt\")\n",
    "input_ids, attn_mask = tokenizer_output[\"input_ids\"], tokenizer_output[\"attention_mask\"]\n",
    "\n",
    "output = bert_model(input_ids, attention_mask = attn_mask)\n",
    "output"
   ]
  },
  {
   "cell_type": "markdown",
   "id": "919f7bfc",
   "metadata": {
    "deletable": false,
    "editable": false,
    "nbgrader": {
     "cell_type": "markdown",
     "checksum": "473fa901be8e6117f55619d66f2ff8c3",
     "grade": false,
     "grade_id": "cell-dc933bfb33ddbf97",
     "locked": true,
     "schema_version": 3,
     "solution": false,
     "task": false
    }
   },
   "source": [
    "As you can see, calling `bert_model` returns a bunch of different things. Let's go through them one by one and understand"
   ]
  },
  {
   "cell_type": "code",
   "execution_count": null,
   "id": "1f337132",
   "metadata": {
    "deletable": false,
    "editable": false,
    "nbgrader": {
     "cell_type": "code",
     "checksum": "af8fbb32c44fe43322dffc6d07810f4e",
     "grade": false,
     "grade_id": "cell-40ff5447737be114",
     "locked": true,
     "schema_version": 3,
     "solution": false,
     "task": false
    }
   },
   "outputs": [],
   "source": [
    "last_hidden_state = output.last_hidden_state\n",
    "print(f\"input_ids shape: {input_ids.shape}\")\n",
    "print(f\"last_hidden_state shape: {last_hidden_state.shape}\")"
   ]
  },
  {
   "cell_type": "markdown",
   "id": "7fa9e5c2",
   "metadata": {
    "deletable": false,
    "editable": false,
    "nbgrader": {
     "cell_type": "markdown",
     "checksum": "de5e5dd782c7ff39ef7ee46739bcb46e",
     "grade": false,
     "grade_id": "cell-3b5b43db00757d9a",
     "locked": true,
     "schema_version": 3,
     "solution": false,
     "task": false
    }
   },
   "source": [
    "For an input of shape `[1,21]` which just means a single sequence of 21 tokens, last_hidden_state is a tensor of shape `[1, 21, 768]` denoting the contextual embedding of each of the 21 tokens in the sequence. These representations can be then used for solving a downstream task, by adding a linear layer or MLP layer on top. These can be useful for sequence labelling type of tasks."
   ]
  },
  {
   "cell_type": "code",
   "execution_count": null,
   "id": "c9c00632",
   "metadata": {
    "deletable": false,
    "editable": false,
    "nbgrader": {
     "cell_type": "code",
     "checksum": "00a748ad98adedcbc525dda6496de309",
     "grade": false,
     "grade_id": "cell-2b52de7298f3eda7",
     "locked": true,
     "schema_version": 3,
     "solution": false,
     "task": false
    }
   },
   "outputs": [],
   "source": [
    "pooler_output = output.pooler_output\n",
    "print(f\"input_ids shape: {input_ids.shape}\")\n",
    "print(f\"pooler_output shape: {pooler_output.shape}\")"
   ]
  },
  {
   "cell_type": "markdown",
   "id": "88dae74d",
   "metadata": {
    "deletable": false,
    "editable": false,
    "nbgrader": {
     "cell_type": "markdown",
     "checksum": "a6a16d47faf0f2b84efa11ea9416a8c6",
     "grade": false,
     "grade_id": "cell-720761c11ee8fa23",
     "locked": true,
     "schema_version": 3,
     "solution": false,
     "task": false
    }
   },
   "source": [
    "`pooler_output` is an aggregate representation of the entire sentence and can be thought of as a sentence embedding. It is obtained by passing the representation of the \\[CLS\\] token through a linear layer. This can be useful for sentence-level tasks like sentiment analysis as well as multiple choice classification tasks etc."
   ]
  },
  {
   "cell_type": "markdown",
   "id": "5785c1f7",
   "metadata": {
    "deletable": false,
    "editable": false,
    "nbgrader": {
     "cell_type": "markdown",
     "checksum": "94333c842666bbf724ab301c505a21a9",
     "grade": false,
     "grade_id": "cell-4b59e5d86dbd6e41",
     "locked": true,
     "schema_version": 3,
     "solution": false,
     "task": false
    }
   },
   "source": [
    "Apart from these two we can also obtain other values by providing additional arguments. Like if we want to obtain attention maps which can be useful for interpretating the model's behavior, we can just specify `output_attentions=True` while calling the model"
   ]
  },
  {
   "cell_type": "code",
   "execution_count": null,
   "id": "50ae6ee7",
   "metadata": {
    "deletable": false,
    "editable": false,
    "nbgrader": {
     "cell_type": "code",
     "checksum": "dac70c849fa65e8f8d505d88c9e88019",
     "grade": false,
     "grade_id": "cell-08b6ef4cef17c16e",
     "locked": true,
     "schema_version": 3,
     "solution": false,
     "task": false
    }
   },
   "outputs": [],
   "source": [
    "output = bert_model(input_ids, attention_mask = attn_mask, output_attentions=True)\n",
    "attentions = output.attentions\n",
    "print(f\"Data type of attentions output: {type(attentions)}\")\n",
    "print(f\"Number of elements: {len(attentions)}\")\n",
    "print(f\"Shape of individual element: {attentions[0].shape}\")\n",
    "print(f\"Example attention map: {attentions[0][0,0]}\")"
   ]
  },
  {
   "cell_type": "markdown",
   "id": "a3a4519b",
   "metadata": {
    "deletable": false,
    "editable": false,
    "nbgrader": {
     "cell_type": "markdown",
     "checksum": "6b9a58816d3b1ec81fb7081f80acb009",
     "grade": false,
     "grade_id": "cell-34a578f52897b7d7",
     "locked": true,
     "schema_version": 3,
     "solution": false,
     "task": false
    }
   },
   "source": [
    "As you can see `attentions` is a tuple containing 12 elements which corresponds to the attention maps of each of the 12 layers in the network. Further each layer's attention maps also contains 12 attention maps corresponding to 12 heads in each layer. A single attention map as you can see is a 18x18 matrix representing the attention pattern for all the tokens in the sequence"
   ]
  },
  {
   "cell_type": "markdown",
   "id": "8a79f03f",
   "metadata": {
    "deletable": false,
    "editable": false,
    "nbgrader": {
     "cell_type": "markdown",
     "checksum": "345bea080f4368b2a6d87453a22a1edc",
     "grade": false,
     "grade_id": "cell-c224cab96a9915ec",
     "locked": true,
     "schema_version": 3,
     "solution": false,
     "task": false
    }
   },
   "source": [
    "### Task 2.1: Implementing BERT-based Classifier for Multiple Choice Classification\n",
    "\n",
    "In this task you will implement a bert-based classifier in Pytorch very similar to how we created bag of word classifiers in the previous assignments. The architecture of the model is as follows:\n",
    "\n",
    "![architecture](https://i.ibb.co/hVmS9Qx/siqa-bert-arch-excalli.png)\n",
    "\n",
    "Essentially, what we have here is a model that takes a context and question, and scores a particular answer (denoted as a score(a)). At the backbone we have the BERT model, using which we obtain the contextualized representation of the [context, question, answer] sequence. We then use the \\[CLS\\] token's embedding as the sequence representation and feed it to a 2 layer MLP (Linear(768, 768) -> ReLU -> Linear(768, 1)) that scores the answer. To predict the correct answer, score each of the three answers, obtain their scores and normalize them by applying softmax, that gives us the probability of each option being the correct answer.\n",
    "\n",
    "\n",
    "![forward pass](https://i.ibb.co/r3SrLHY/siqa-bert-forward-excalli.png)\n",
    "\n",
    "Implement the architecture and forward pass in `BertMultiChoiceClassifierModel` class below:"
   ]
  },
  {
   "cell_type": "code",
   "execution_count": null,
   "id": "0f626042",
   "metadata": {
    "deletable": false,
    "nbgrader": {
     "cell_type": "code",
     "checksum": "34a2a6ddf2f67acbfe7fd30857f6de91",
     "grade": false,
     "grade_id": "cell-7930c03ec3b56775",
     "locked": false,
     "schema_version": 3,
     "solution": true,
     "task": false
    }
   },
   "outputs": [],
   "source": [
    "class BertMultiChoiceClassifierModel(nn.Module):\n",
    "    \n",
    "    def __init__(self, d_hidden = 768, bert_variant = \"bert-base-uncased\"):\n",
    "        \"\"\"\n",
    "        Define the architecture of Bert-Based mulit-choice classifier.\n",
    "        You will mainly need to define 3 components, first a BERT layer\n",
    "        using `BertModel` from transformers library,\n",
    "        a two layer MLP layer to map the representation from Bert to the output i.e. (Linear(d_hidden, d_hidden) -> ReLU -> Linear(d_hidden, 1)),\n",
    "        and a log sftmax layer to map the scores to a probabilities\n",
    "        \n",
    "        Inputs:\n",
    "            - d_hidden (int): Size of the hidden representations of bert\n",
    "            - bert_variant (str): BERT variant to use\n",
    "        \"\"\"\n",
    "        super(BertMultiChoiceClassifierModel, self).__init__()\n",
    "        self.bert_layer = None\n",
    "        self.mlp_layer = None\n",
    "        self.log_softmax_layer = None\n",
    "        \n",
    "        # YOUR CODE HERE\n",
    "        raise NotImplementedError()\n",
    "        \n",
    "    def forward(self, input_ids_dict, attn_mask_dict):\n",
    "        \"\"\"\n",
    "        Forward Passes the inputs through the network and obtains the prediction\n",
    "        \n",
    "        Inputs:\n",
    "            - input_ids_dict (dict(str,torch.tensor)): A dictionary containing input_ids corresponding to each answer choice. Keys are A, B and C and value is a torch tensor of shape [batch_size, seq_len]\n",
    "                                        representing the sequence of token ids\n",
    "            - attn_mask_dict (dict(str,torch.tensor)): A dictionary containing attention mask corresponding to each answer choice. Keys are A, B and C and value is a torch tensor of shape [batch_size, seq_len]\n",
    "                                        \n",
    "        Returns:\n",
    "          - output (torch.tensor): A torch tensor of shape [batch_size,] obtained after passing the input to the network\n",
    "                                        \n",
    "        \n",
    "        Hints: \n",
    "            1. Recall which of the outputs from BertModel is appropriate for the sentence classification task and how to access it.\n",
    "            2. `torch.cat` might come in handy before performing softmax\n",
    "        \"\"\"\n",
    "        output = None\n",
    "        \n",
    "        # YOUR CODE HERE\n",
    "        raise NotImplementedError()\n",
    "        \n",
    "        return output"
   ]
  },
  {
   "cell_type": "code",
   "execution_count": null,
   "id": "1c65d7c7",
   "metadata": {
    "deletable": false,
    "editable": false,
    "nbgrader": {
     "cell_type": "code",
     "checksum": "35f231082355ea3357feed7ad243b08a",
     "grade": true,
     "grade_id": "cell-cf9b5db5de53eeac",
     "locked": true,
     "points": 3,
     "schema_version": 3,
     "solution": false,
     "task": false
    }
   },
   "outputs": [],
   "source": [
    "print(f\"Running Sample Test Cases!\")\n",
    "torch.manual_seed(42)\n",
    "model = BertMultiChoiceClassifierModel()\n",
    "\n",
    "print(\"Sample Test Case 1\")\n",
    "batch_input_ids, batch_attn_mask, batch_labels = next(iter(train_loader))\n",
    "bert_out = model(batch_input_ids, batch_attn_mask).detach().numpy()\n",
    "expected_bert_out = np.array([[-1.1053145, -1.1024535, -1.0881536],\n",
    "       [-1.0938842, -1.1064763, -1.0955234],\n",
    "       [-1.0922596, -1.1145799, -1.0891887],\n",
    "       [-1.090618 , -1.106084 , -1.0991948],\n",
    "       [-1.1217737, -1.0941243, -1.0803822],\n",
    "       [-1.104023 , -1.0903848, -1.1014819],\n",
    "       [-1.0778998, -1.1166911, -1.1016288],\n",
    "       [-1.0980098, -1.101099 , -1.096733 ],\n",
    "       [-1.1109633, -1.1030217, -1.082075 ],\n",
    "       [-1.1067228, -1.0879316, -1.1012757],\n",
    "       [-1.0998732, -1.0886526, -1.1074003],\n",
    "       [-1.1045506, -1.0840726, -1.1073757],\n",
    "       [-1.0904704, -1.1235625, -1.08228  ],\n",
    "       [-1.0856036, -1.1222421, -1.0884054],\n",
    "       [-1.0872409, -1.0814053, -1.127827 ],\n",
    "       [-1.1001955, -1.1009426, -1.0947104]],)\n",
    "print(f\"Model Output: {bert_out}\")\n",
    "print(f\"Expected Output: {expected_bert_out}\")\n",
    "\n",
    "assert bert_out.shape == expected_bert_out.shape\n",
    "assert np.allclose(bert_out, expected_bert_out, 1e-4)\n",
    "print(\"Test Case Passed! :)\")\n",
    "print(\"******************************\\n\")\n",
    "\n",
    "print(\"Sample Test Case 2\")\n",
    "batch_input_ids, batch_attn_mask, batch_labels = next(iter(dev_loader))\n",
    "bert_out = model(batch_input_ids, batch_attn_mask).detach().numpy()\n",
    "expected_bert_out = np.array([[-1.1080194, -1.1018935, -1.0860529],\n",
    "       [-1.0850987, -1.0930991, -1.1179314],\n",
    "       [-1.0992835, -1.0923327, -1.1042567],\n",
    "       [-1.1035609, -1.1042061, -1.0881525],\n",
    "       [-1.125744 , -1.0730577, -1.0977296],\n",
    "       [-1.100052 , -1.1064384, -1.0894204],\n",
    "       [-1.0903187, -1.1102295, -1.0953954],\n",
    "       [-1.0908265, -1.0806577, -1.1248875],\n",
    "       [-1.1061317, -1.0917449, -1.0980123],\n",
    "       [-1.1041981, -1.0936204, -1.0980463],\n",
    "       [-1.0973629, -1.0959455, -1.1025406],\n",
    "       [-1.1060737, -1.1060997, -1.0838289],\n",
    "       [-1.0940919, -1.1049469, -1.0968301],\n",
    "       [-1.0954419, -1.1195228, -1.0812458],\n",
    "       [-1.0806972, -1.10183  , -1.1135877],\n",
    "       [-1.1060014, -1.0790375, -1.1110954]])\n",
    "print(f\"Model Output: {bert_out}\")\n",
    "print(f\"Expected Output: {expected_bert_out}\")\n",
    "\n",
    "assert bert_out.shape == expected_bert_out.shape\n",
    "assert np.allclose(bert_out, expected_bert_out, 1e-4)\n",
    "print(\"Test Case Passed! :)\")\n",
    "print(\"******************************\\n\")"
   ]
  },
  {
   "cell_type": "markdown",
   "id": "f38f523b",
   "metadata": {
    "deletable": false,
    "editable": false,
    "nbgrader": {
     "cell_type": "markdown",
     "checksum": "b96506abcb89deafbdc245e7e22a0509",
     "grade": false,
     "grade_id": "cell-d26d1e16847283ff",
     "locked": true,
     "schema_version": 3,
     "solution": false,
     "task": false
    }
   },
   "source": [
    "### Task 2.2: Training and Evaluating the Model\n",
    "\n",
    "Now that we have implemented the custom Dataset and a BERT based classifier model, we can start training and evaluating the model. This time we will modify the training loop slightly. At the end of each training epoch we will now evaluate on the validation data and check the accuracy. Based on this we will select the best model across the epochs that obtains highest validation accuracy. You will need to implement the `train` and `evaluate` functions below."
   ]
  },
  {
   "cell_type": "code",
   "execution_count": null,
   "id": "af1e43b1",
   "metadata": {
    "deletable": false,
    "nbgrader": {
     "cell_type": "code",
     "checksum": "fce28e32786d4f34b17a1826f752e3a2",
     "grade": true,
     "grade_id": "cell-37de7065d6cb7392",
     "locked": false,
     "points": 3,
     "schema_version": 3,
     "solution": true,
     "task": false
    }
   },
   "outputs": [],
   "source": [
    "def evaluate(model, test_dataloader, device = \"cpu\"):\n",
    "    \"\"\"\n",
    "    Evaluates `model` on test dataset\n",
    "\n",
    "    Inputs:\n",
    "        - model (BertMultiChoiceClassifierModel): BERT based multiple choice classifier model to be evaluated\n",
    "        - test_dataloader (torch.utils.DataLoader): A dataloader defined over the test dataset\n",
    "\n",
    "    Returns:\n",
    "        - accuracy (float): Average accuracy over the test dataset \n",
    "    \"\"\"\n",
    "    \n",
    "    model.eval()\n",
    "    model = model.to(device)\n",
    "    accuracy = 0\n",
    "    \n",
    "    \n",
    "    model = model.to(device)\n",
    "    with torch.no_grad():\n",
    "        for test_batch in test_dataloader:\n",
    "\n",
    "            # Read the batch from dataloader\n",
    "            input_ids_dict, attn_mask_dict, labels = test_batch\n",
    "\n",
    "            # Send all values of dicts to device\n",
    "            for key in input_ids_dict.keys():\n",
    "                input_ids_dict[key] = input_ids_dict[key].to(device)\n",
    "                attn_mask_dict[key] = attn_mask_dict[key].to(device)            \n",
    "            labels = labels.float()\n",
    "            \n",
    "            # Step 1: Compute model's prediction on the test batch (Note here you need to get the final prediction from the model's output)\n",
    "            preds = None\n",
    "            # YOUR CODE HERE\n",
    "            raise NotImplementedError()\n",
    "\n",
    "            # Step 2: then compute accuracy and store it in batch_accuracy\n",
    "            batch_accuracy = 0\n",
    "            # YOUR CODE HERE\n",
    "            raise NotImplementedError()\n",
    "            \n",
    "            accuracy += batch_accuracy\n",
    "        \n",
    "    accuracy = accuracy / len(test_dataloader)  \n",
    "    return accuracy\n",
    "    \n",
    "\n",
    "def train(model, train_dataloader, val_dataloader,\n",
    "          lr = 1e-5, num_epochs = 3,\n",
    "          device = \"cpu\"):\n",
    "    \"\"\"\n",
    "    Runs the training loop. Define the loss function as BCELoss like the last tine\n",
    "    and optimizer as Adam and traine for `num_epochs` epochs.\n",
    "\n",
    "    Inputs:\n",
    "        - model (BertMultiChoiceClassifierModel): BERT based classifer model to be trained\n",
    "        - train_dataloader (torch.utils.DataLoader): A dataloader defined over the training dataset\n",
    "        - val_dataloader (torch.utils.DataLoader): A dataloader defined over the validation dataset\n",
    "        - lr (float): The learning rate for the optimizer\n",
    "        - num_epochs (int): Number of epochs to train the model for.\n",
    "        - device (str): Device to train the model on. Can be either 'cuda' (for using gpu) or 'cpu'\n",
    "\n",
    "    Returns:\n",
    "        - best_model (BertMultiChoiceClassifierModel): model corresponding to the highest validation accuracy (checked at the end of each epoch)\n",
    "        - best_val_accuracy (float): Validation accuracy corresponding to the best epoch\n",
    "    \"\"\"\n",
    "    epoch_loss = 0\n",
    "    model = model.to(device)\n",
    "    \n",
    "    best_val_accuracy = float(\"-inf\")\n",
    "    best_model = None\n",
    "    \n",
    "    # 1. Define Loss function and optimizer\n",
    "    loss_fn = None\n",
    "    optimizer = None\n",
    "    # YOUR CODE HERE\n",
    "    raise NotImplementedError()\n",
    "\n",
    "    # Iterate over `num_epochs`\n",
    "    for epoch in range(num_epochs):\n",
    "        epoch_loss = 0 # We can use this to keep track of how the loss value changes as we train the model.\n",
    "        # Iterate over each batch using the `train_dataloader`\n",
    "        for train_batch in tqdm(train_dataloader):\n",
    "\n",
    "            # Zero out any gradients stored in the previous steps\n",
    "            optimizer.zero_grad()\n",
    "\n",
    "            # Read the batch from dataloader\n",
    "            input_ids_dict, attn_mask_dict, labels = train_batch\n",
    "\n",
    "            # Send all values of dicts to device\n",
    "            for key in input_ids_dict.keys():\n",
    "                input_ids_dict[key] = input_ids_dict[key].to(device)\n",
    "                attn_mask_dict[key] = attn_mask_dict[key].to(device)            \n",
    "            labels = labels.to(device)\n",
    "\n",
    "            # Step 3: Feed the input features to the model to get outputs log-probabilities\n",
    "            model_outs = None\n",
    "            # YOUR CODE HERE\n",
    "            raise NotImplementedError()\n",
    "\n",
    "            # Step 4: Compute the loss and perform backward pass\n",
    "            loss = None\n",
    "            # YOUR CODE HERE\n",
    "            raise NotImplementedError()\n",
    "\n",
    "            # Step 5: Take optimizer step\n",
    "            # YOUR CODE HERE\n",
    "            raise NotImplementedError()\n",
    "\n",
    "            # Store loss value for tracking\n",
    "            epoch_loss += loss.item()\n",
    "\n",
    "        epoch_loss = epoch_loss / len(train_dataloader)\n",
    "        # Step 6. Evaluate on validation data by calling `evaluate` and store the validation accuracy in `val_accurracy`\n",
    "        val_accuracy = 0\n",
    "        # YOUR CODE HERE\n",
    "        raise NotImplementedError()\n",
    "\n",
    "        # Model selection\n",
    "        if val_accuracy > best_val_accuracy:\n",
    "            best_val_accuracy = val_accuracy\n",
    "            best_model = copy.deepcopy(model) # Create a copy of model\n",
    "        \n",
    "        print(f\"Epoch {epoch} completed | Average Training Loss: {epoch_loss} | Validation Accuracy: {val_accuracy}\")\n",
    " \n",
    "    return best_model, best_val_accuracy"
   ]
  },
  {
   "cell_type": "code",
   "execution_count": null,
   "id": "b408695c",
   "metadata": {
    "deletable": false,
    "editable": false,
    "nbgrader": {
     "cell_type": "code",
     "checksum": "6e8f472b79d52b3b88d3ea6a7b0b6e74",
     "grade": true,
     "grade_id": "cell-f17fa8b3f55ab382",
     "locked": true,
     "points": 0,
     "schema_version": 3,
     "solution": false,
     "task": false
    }
   },
   "outputs": [],
   "source": [
    "torch.manual_seed(42)\n",
    "print(\"Training on 100 data points for sanity check\")\n",
    "sample_data = train_data[:100]\n",
    "sample_labels = train_labels[:100]\n",
    "sample_dataset = SIQABertDataset(sample_data, sample_labels)\n",
    "sample_dataloader = DataLoader(sample_dataset, batch_size=4, collate_fn=partial(collate_fn, sample_dataset.tokenizer))\n",
    "\n",
    "model = BertMultiChoiceClassifierModel()\n",
    "best_model, best_val_acc = train(model, sample_dataloader, sample_dataloader, num_epochs = 5, device = \"cuda\")\n",
    "print(f\"Best Validation Accuracy: {best_val_acc}\")\n",
    "print(f\"Expected Best Validation Accuracy: {1.0}\")"
   ]
  },
  {
   "cell_type": "markdown",
   "id": "e958b3c7",
   "metadata": {
    "deletable": false,
    "editable": false,
    "nbgrader": {
     "cell_type": "markdown",
     "checksum": "dbd0f3b1ded747e9f489e15a0fd7dd8e",
     "grade": false,
     "grade_id": "cell-e98f8c2ba73c862e",
     "locked": true,
     "schema_version": 3,
     "solution": false,
     "task": false
    }
   },
   "source": [
    " You can expect the validation accuracy of 1.0 by the end of training. This is so high because we trained on just 100 examples and just use those for validation for a sanity check. This is often done to debug the model and training loop. Let's now train on the entire dataset. This can take some time approximately 50 minutes per epoch, since we are fine-tuning all the 12 layers of BERT."
   ]
  },
  {
   "cell_type": "code",
   "execution_count": null,
   "id": "298b6cf0",
   "metadata": {
    "deletable": false,
    "editable": false,
    "nbgrader": {
     "cell_type": "code",
     "checksum": "19c69cac6d134da18698445835172a21",
     "grade": false,
     "grade_id": "cell-33834a90b1557f37",
     "locked": true,
     "schema_version": 3,
     "solution": false,
     "task": false
    }
   },
   "outputs": [],
   "source": [
    "model = BertMultiChoiceClassifierModel()\n",
    "best_model, best_val_acc = train(model, train_loader, dev_loader, num_epochs = 2, device = \"cuda\")"
   ]
  },
  {
   "cell_type": "markdown",
   "id": "a397015f",
   "metadata": {
    "deletable": false,
    "editable": false,
    "nbgrader": {
     "cell_type": "markdown",
     "checksum": "48068cd407a033e3d3a83d6f5ffc416f",
     "grade": false,
     "grade_id": "cell-eb742cd2053baea4",
     "locked": true,
     "schema_version": 3,
     "solution": false,
     "task": false
    }
   },
   "source": [
    "You should expect about ~61% validation accuracy (random classifier will have an accuracy of 33%), which is around what's reported in the SocialIQA paper. Note that this is a much more complex task than the news classification that we had in the last lab. You can further improve the performance by using bigger models like bert-base-large or roberta-large."
   ]
  },
  {
   "cell_type": "markdown",
   "id": "95b18060",
   "metadata": {
    "deletable": false,
    "editable": false,
    "nbgrader": {
     "cell_type": "markdown",
     "checksum": "fb7eeb52eab4c3dee032a34d8cab16a8",
     "grade": false,
     "grade_id": "cell-92df0b4e94279d7b",
     "locked": true,
     "schema_version": 3,
     "solution": false,
     "task": false
    }
   },
   "source": [
    "Now that we have a model ready for the task, we can save it on disk, so we can use it later (This will come handy for Assignment2)"
   ]
  },
  {
   "cell_type": "code",
   "execution_count": null,
   "id": "c3168433",
   "metadata": {
    "deletable": false,
    "editable": false,
    "nbgrader": {
     "cell_type": "code",
     "checksum": "3840681b544c16526676ad44bfbbf4d7",
     "grade": false,
     "grade_id": "cell-58bf127a74f43114",
     "locked": true,
     "schema_version": 3,
     "solution": false,
     "task": false
    }
   },
   "outputs": [],
   "source": [
    "# Save the best model\n",
    "save_dir = \"models/siqa_bert-base-uncased/\"\n",
    "if not os.path.exists(save_dir):\n",
    "    os.makedirs(save_dir)\n",
    "\n",
    "torch.save(best_model.state_dict(), f\"{save_dir}/model.pt\")"
   ]
  },
  {
   "cell_type": "markdown",
   "id": "82f7ea51",
   "metadata": {
    "deletable": false,
    "editable": false,
    "nbgrader": {
     "cell_type": "markdown",
     "checksum": "3a3028590f28ef4abb1bba217f555232",
     "grade": false,
     "grade_id": "cell-28db2cd28da09990",
     "locked": true,
     "schema_version": 3,
     "solution": false,
     "task": false
    }
   },
   "source": [
    "### Task 2.3: Making Predictions from scratch\n",
    "\n",
    "Similar to assignment 1, implement the function `predict_siqa` that takes as input the context, question and answers and runs them through the BERT classifier model to obtain the prediction."
   ]
  },
  {
   "cell_type": "code",
   "execution_count": null,
   "id": "639651fe",
   "metadata": {
    "deletable": false,
    "nbgrader": {
     "cell_type": "code",
     "checksum": "f7d2ad4a45affa789ed2eab66e144df8",
     "grade": false,
     "grade_id": "cell-8a815364723b18a7",
     "locked": false,
     "schema_version": 3,
     "solution": true,
     "task": false
    }
   },
   "outputs": [],
   "source": [
    "def predict_text(siqa_instance, model, tokenizer,device = \"cpu\"):\n",
    "    \"\"\"\n",
    "    Predicts the correct answer for a piece of a Social IQA instance using the BERT classifier model\n",
    "    \n",
    "    Inputs:\n",
    "        - siqa_instance (dict(str, str)): An SIQA instance containing the context, question and the three answer choices.\n",
    "        - model (BertMultiChoiceClassifierModel): Fine-tuned BERT based classifer model\n",
    "        - tokenizer (BertTokenizer): Pre-trained BERT tokenizer\n",
    "    Returns:\n",
    "        - pred_label (float): Predicted answer for `siqa_instance`\n",
    "    \"\"\"\n",
    "    \n",
    "    model = model.to(device)\n",
    "    model.eval()\n",
    "    \n",
    "    pred_label = None\n",
    "    \n",
    "    input_ids_dict = None\n",
    "    attn_mask_dict = None\n",
    "    # Step 1: Tokenize the [sentence, question, answer] triplet using the tokenizer and create input_ids_dict and attn_mask_dict, as done in the Dataset class \n",
    "    # (Don't forget to convert the lists to tensors, torch.Tensor() can come handy or just use return_tensors = \"pt\" while calling the tokenizer)\n",
    "\n",
    "    # YOUR CODE HERE\n",
    "    raise NotImplementedError()\n",
    "\n",
    "    # Send the input_ids_dict and attn_mask_dict to device\n",
    "    for key in input_ids_dict.keys():\n",
    "        input_ids_dict[key] = input_ids_dict[key].to(device)\n",
    "        attn_mask_dict[key] = attn_mask_dict[key].to(device)\n",
    "\n",
    "    # Step 2: Feed the input_ids_dict and attn_mask_dict to the model and get the final predictions\n",
    "    # (Don't forget torch.no_grad())\n",
    "    pred_label = None\n",
    "    # YOUR CODE HERE\n",
    "    raise NotImplementedError()\n",
    "\n",
    "    # Step 3: Make the predicted human readable i.e. convert 0 to A, 1 to B and 2 to C\n",
    "    pred_label_hr = None\n",
    "    # YOUR CODE HERE\n",
    "    raise NotImplementedError()\n",
    "\n",
    "    \n",
    "    return pred_label_hr"
   ]
  },
  {
   "cell_type": "code",
   "execution_count": null,
   "id": "b79990de",
   "metadata": {
    "deletable": false,
    "editable": false,
    "nbgrader": {
     "cell_type": "code",
     "checksum": "4e2ea8703c05b6e64a2fd3574ac83692",
     "grade": false,
     "grade_id": "cell-2a404905599a658d",
     "locked": true,
     "schema_version": 3,
     "solution": false,
     "task": false
    }
   },
   "outputs": [],
   "source": [
    "print(\"Running Sample Test Case. If the implementation is correct, we should get the same accuracy as best_val_acc above, by predicting on each example of the dev data\")\n",
    "preds = [\n",
    "    predict_text(siqa_instance, best_model, bert_tokenizer, device = \"cuda\")\n",
    "    for siqa_instance in tqdm(dev_data)\n",
    "]\n",
    "test_case_accuracy = (np.array(preds) == np.array(dev_labels)).mean()\n",
    "print(f\"Accuracy by calling `predict_text`: {test_case_accuracy}\")\n",
    "print(f\"Expected Accuracy: {best_val_acc}\")\n",
    "\n",
    "assert np.allclose(test_case_accuracy, best_val_acc, 1e-2)\n",
    "print(\"Test Case Passed! :)\")\n",
    "print(\"******************************\\n\")"
   ]
  },
  {
   "cell_type": "code",
   "execution_count": null,
   "id": "7c969000",
   "metadata": {
    "deletable": false,
    "editable": false,
    "nbgrader": {
     "cell_type": "code",
     "checksum": "5236adbcc6dc50b20fd6f56c133a3ee0",
     "grade": true,
     "grade_id": "cell-00c5243a8d59f404",
     "locked": true,
     "points": 2,
     "schema_version": 3,
     "solution": false,
     "task": false
    }
   },
   "outputs": [],
   "source": [
    "idx = 0\n",
    "sample_data= dev_data[idx]\n",
    "predicted_label = predict_text(sample_data, best_model, bert_tokenizer)\n",
    "expected_label = \"C\"\n",
    "pprint(sample_data, sort_dicts=False, indent = 4)\n",
    "print(f\"Predicted Label: {predicted_label}\")\n",
    "print(f\"Gold Label: {dev_labels[idx]}\")\n",
    "print(\"**********************************\\n\")\n",
    "\n",
    "idx = 100\n",
    "sample_data= dev_data[idx]\n",
    "predicted_label = predict_text(sample_data, best_model, bert_tokenizer)\n",
    "expected_label = \"C\"\n",
    "pprint(sample_data, sort_dicts=False, indent = 4)\n",
    "print(f\"Predicted Label: {predicted_label}\")\n",
    "print(f\"Gold Label: {dev_labels[idx]}\")\n",
    "print(\"**********************************\\n\")\n",
    "\n",
    "\n",
    "idx = 200\n",
    "sample_data= dev_data[idx]\n",
    "predicted_label = predict_text(sample_data, best_model, bert_tokenizer)\n",
    "expected_label = \"C\"\n",
    "pprint(sample_data, sort_dicts=False, indent = 4)\n",
    "print(f\"Predicted Label: {predicted_label}\")\n",
    "print(f\"Gold Label: {dev_labels[idx]}\")\n",
    "\n",
    "print(\"**********************************\\n\")"
   ]
  },
  {
   "cell_type": "code",
   "execution_count": null,
   "id": "5ef516c5",
   "metadata": {},
   "outputs": [],
   "source": []
  }
 ],
 "metadata": {
  "kernelspec": {
   "display_name": "Python 3 (ipykernel)",
   "language": "python",
   "name": "python3"
  },
  "language_info": {
   "codemirror_mode": {
    "name": "ipython",
    "version": 3
   },
   "file_extension": ".py",
   "mimetype": "text/x-python",
   "name": "python",
   "nbconvert_exporter": "python",
   "pygments_lexer": "ipython3",
   "version": "3.9.7"
  }
 },
 "nbformat": 4,
 "nbformat_minor": 5
}
